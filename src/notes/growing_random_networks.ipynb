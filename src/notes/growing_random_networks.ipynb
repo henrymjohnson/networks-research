{
 "cells": [
  {
   "attachments": {},
   "cell_type": "markdown",
   "metadata": {},
   "source": [
    "# Chapter 3: Random Networks"
   ]
  },
  {
   "attachments": {},
   "cell_type": "markdown",
   "metadata": {},
   "source": [
    "## Growing Random Networks\n",
    "\n",
    "Citation Networks, Web, Scientific Networks, Societies\n",
    "\n",
    "<!-- \"we build models in order to use as few moving parts as possible in order to reproduce the world\" -->\n",
    "\n",
    "Realism, Natural for of heterogeneity via age, A form of dynamics, Natural way of varying degree distributions not pre-specified in static models"
   ]
  },
  {
   "attachments": {},
   "cell_type": "markdown",
   "metadata": {},
   "source": [
    "We'll start with an Erdös-Renyi random network.\n",
    "Each date is a new node's birthday\n",
    "Forms m links to existing nodes\n",
    "Each node is chosen with equal likelihood\n",
    "- Link formation process only formed at birth\n",
    "- Can accumulate more links later as newly-born nodes exist\n",
    "\n",
    "new node is formed. It forms m links to existin nodes. An existing node has a probability $\\frac{m}{t}$ of getting new link each period.\n",
    "\n",
    "Expected degree for node i born at $m \\lt i \\lt t$\n",
    "$$\n",
    "m + \\frac{m}{i+1} + \\frac{m}{i+2} + ... + \\frac{m}{t}\n",
    "$$\n",
    "These are harmonic number so it's approximately $m(1 + \\log(\\frac{t}{i}))$\n",
    "\n",
    "What does this generate for the distribution of expected degree in society over time?\n",
    "Nodes that have expected degree less than $d$ at some time $t$ are those such that $m(1 + \\log(\\frac{t}{i})) \\lt d$\n",
    "\n",
    "The degree distribution at time $t$ ends up being\n",
    "$$\n",
    "1-e^{-\\frac{d-m}{m}}\n",
    "$$\n",
    "$d-m$ is exponentially distributed with a mean of $m$\n",
    "\n",
    "Good approximation for large $t$ —- need careful law of large numbers arguments\n",
    "\n",
    "The average degree of a growing random network at time $t$ is $m + m = 2m$ since $d-m$ is exponentially distributed with mean $m$. Alternative way to see this: at date $t$ there are $t$ nodes, and $tm$ links being formed. Thus the total degree is $2tm$ since each link is counted twice in total degree. Hence the average degree is $2t\\frac{m}{t} = 2m$"
   ]
  },
  {
   "attachments": {},
   "cell_type": "markdown",
   "metadata": {},
   "source": [
    "## Mean Field Approximations\n",
    "\n",
    "continuous time approximation\n",
    "\n",
    "$\\frac{\\partial{\\partial_{i}{t}}}{\\partial{t}} = \\frac{m}{t}$ and $\\partial_{i}=m$\n",
    "\n",
    "$\\partial_{i}{t} = m + m \\log{(\\frac{t}{i})}$"
   ]
  },
  {
   "attachments": {},
   "cell_type": "markdown",
   "metadata": {},
   "source": [
    "### Natural way of varying degree distributions"
   ]
  },
  {
   "attachments": {},
   "cell_type": "markdown",
   "metadata": {},
   "source": [
    "#### Preferential Attachment\n",
    "\n",
    "- Other methods of linking than uniformly at random to existing nodes\n",
    "- Can we get other degree distributions: \"Power Laws\"?\n",
    "\n",
    "Nodes prefer to attach to nodes with higher numbers of links"
   ]
  },
  {
   "attachments": {},
   "cell_type": "markdown",
   "metadata": {},
   "source": [
    "Price 1969: Distribution of links per node: Fat tails\n",
    "- More high and low degree nodes than predicted at random\n",
    "    - Citation networks - too many with 0 citations, too many with high numbers of citations to have citations drawn at random\n",
    "    - \"Fat tails\" compared to random network\n",
    "- Related to other settings (wealth, city size, word usage...): Pareto (1896), Yule (1925), Zipf (1949), Simon (1955)"
   ]
  },
  {
   "attachments": {},
   "cell_type": "markdown",
   "metadata": {},
   "source": [
    "Distribution of Expected Degrees\n",
    "\n",
    "$\\frac{\\partial{\\text{degree}_{i}(t)}}{\\partial{t}} = \\frac{m * \\text{degree}_{i}(t)}{2tm} = \\frac{\\text{degree}_{i}(t)}{2t} \\text{ and } \\text{degree}_{i}(i) = m$\n",
    "\n",
    "$\\text{degree}_{i}(t) = m \\sqrt{\\frac{t}{i}}$\n",
    "\n",
    "$$\n",
    "\\begin{align*}\n",
    "\\text{degree}_{i}(t) = m \\sqrt{\\frac{t}{i}} \\lt 20 \\\\ \n",
    "i \\gt \\frac{tm^{2}}{20^2} = 50 * \\frac{10^{2}}{20^{2}} = 12.5 \\\\ \n",
    "F_{50}(20) = \\frac{t-i}{t} = 0.75 \\\\\n",
    "F_{t}(d) = \\frac{t - t \\frac{m^{2}}{d^{2}}}{t} = 1 - \\frac{m^{2}}{d^{2}}\n",
    "\\end{align*}\n",
    "$$\n",
    "So the degree distribution is $F_{t}(d) = 1-\\frac{m^{2}}{d^{2}}$ and $f_{t}(d) = 2\\frac{m^{2}}{d^{3}}$ is our power law\n",
    "\n",
    "by taking logs of each side of our power law, we get $\\log{f(d)} = \\log{(2m^{2})} - 3\\log{d}$"
   ]
  },
  {
   "cell_type": "code",
   "execution_count": null,
   "metadata": {},
   "outputs": [],
   "source": []
  },
  {
   "cell_type": "code",
   "execution_count": null,
   "metadata": {},
   "outputs": [],
   "source": []
  },
  {
   "cell_type": "code",
   "execution_count": null,
   "metadata": {},
   "outputs": [],
   "source": []
  }
 ],
 "metadata": {
  "kernelspec": {
   "display_name": "Python 3",
   "language": "python",
   "name": "python3"
  },
  "language_info": {
   "codemirror_mode": {
    "name": "ipython",
    "version": 3
   },
   "file_extension": ".py",
   "mimetype": "text/x-python",
   "name": "python",
   "nbconvert_exporter": "python",
   "pygments_lexer": "ipython3",
   "version": "3.9.9"
  },
  "orig_nbformat": 4,
  "vscode": {
   "interpreter": {
    "hash": "aee8b7b246df8f9039afb4144a1f6fd8d2ca17a180786b69acc140d282b71a49"
   }
  }
 },
 "nbformat": 4,
 "nbformat_minor": 2
}
